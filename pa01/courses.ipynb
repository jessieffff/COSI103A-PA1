{
 "cells": [
  {
   "cell_type": "markdown",
   "metadata": {},
   "source": [
    "# Courses Demo\n",
    "This Jupyter notebook is for exploring the data set courses20-21.json\n",
    "which consists of all Brandeis courses in the 20-21 academic year (Fall20, Spr21, Sum21) \n",
    "which had at least 1 student enrolled.\n",
    "\n",
    "First we need to read the json file into a list of Python dictionaries"
   ]
  },
  {
   "cell_type": "code",
   "execution_count": 2,
   "metadata": {},
   "outputs": [],
   "source": [
    "import json"
   ]
  },
  {
   "cell_type": "code",
   "execution_count": 3,
   "metadata": {},
   "outputs": [],
   "source": [
    "with open(\"courses20-21.json\",\"r\",encoding='utf-8') as jsonfile:\n",
    "    courses = json.load(jsonfile)"
   ]
  },
  {
   "cell_type": "markdown",
   "metadata": {},
   "source": [
    "## Structure of a course\n",
    "Next we look at the fields of each course dictionary and their values"
   ]
  },
  {
   "cell_type": "code",
   "execution_count": 3,
   "metadata": {},
   "outputs": [
    {
     "name": "stdout",
     "output_type": "stream",
     "text": [
      "there are 7813 courses in the dataset\n",
      "here is the data for course 1246\n"
     ]
    },
    {
     "data": {
      "text/plain": [
       "{'limit': 40,\n",
       " 'times': [{'start': 600, 'end': 690, 'days': ['m', 'w']}],\n",
       " 'enrolled': 22,\n",
       " 'details': 'See Course Catalog for Special Notes.\\nSignature of IBS Program Advisor required to add and drop.\\nIBS MSF students only.\\nInstruction for this course will be offered remotely. Meeting times for this course are listed in the schedule of classes (in ET).',\n",
       " 'type': 'section',\n",
       " 'status_text': 'Open Consent Req.',\n",
       " 'section': '1',\n",
       " 'waiting': 0,\n",
       " 'instructor': ['Debarshi K', 'Nandy', 'dnandy@brandeis.edu'],\n",
       " 'coinstructors': [],\n",
       " 'code': ['FIN', '204A'],\n",
       " 'subject': 'FIN',\n",
       " 'coursenum': '204A',\n",
       " 'name': 'Advanced Corporate Finance Theory and Practice',\n",
       " 'independent_study': False,\n",
       " 'term': '1203',\n",
       " 'description': 'Open to Master of Science in Finance (MSF) students only. \\n\\nDevelops depth of financial skills and logical thought processes necessary to formulate and implement corporate finance decisions in a competitive environment. Usually offered every year.\\nDebarshi Nandy and Robert Podorefsky'}"
      ]
     },
     "execution_count": 3,
     "metadata": {},
     "output_type": "execute_result"
    }
   ],
   "source": [
    "print('there are',len(courses),'courses in the dataset')\n",
    "print('here is the data for course 1246')\n",
    "courses[1276]"
   ]
  },
  {
   "cell_type": "markdown",
   "metadata": {},
   "source": [
    "## Cleaning the data\n",
    "If we want to sort courses by instructor or by code, we need to replace the lists with tuples (which are immutable lists)"
   ]
  },
  {
   "cell_type": "code",
<<<<<<< HEAD
   "execution_count": 4,
=======
   "execution_count": 5,
>>>>>>> 6c4588fa2464a6bc0140baba7fd0de7482655719
   "metadata": {},
   "outputs": [],
   "source": [
    "for course in courses:\n",
    "        course['instructor'] = tuple(course['instructor'])\n",
    "        course['coinstructors'] = tuple([tuple(f) for f in course['coinstructors']])\n",
    "        course['code']= tuple(course['code'])"
   ]
  },
  {
   "cell_type": "code",
<<<<<<< HEAD
   "execution_count": 5,
=======
   "execution_count": 4,
>>>>>>> 6c4588fa2464a6bc0140baba7fd0de7482655719
   "metadata": {},
   "outputs": [
    {
     "name": "stdout",
     "output_type": "stream",
     "text": [
      "notice that the instructor and code are tuples now\n"
     ]
    },
    {
     "data": {
      "text/plain": [
       "{'limit': 28,\n",
       " 'times': [{'start': 1080, 'end': 1170, 'days': ['w', 'm']}],\n",
       " 'enrolled': 4,\n",
       " 'details': 'Instruction for this course will be offered remotely. Meeting times for this course are listed in the schedule of classes (in ET).',\n",
       " 'type': 'section',\n",
       " 'status_text': 'Open',\n",
       " 'section': '1',\n",
       " 'waiting': 0,\n",
<<<<<<< HEAD
       " 'instructor': ('An', 'Huang', 'anhuang@brandeis.edu'),\n",
       " 'coinstructors': (),\n",
       " 'code': ('MATH', '223A'),\n",
=======
       " 'instructor': ['An', 'Huang', 'anhuang@brandeis.edu'],\n",
       " 'coinstructors': [],\n",
       " 'code': ['MATH', '223A'],\n",
>>>>>>> 6c4588fa2464a6bc0140baba7fd0de7482655719
       " 'subject': 'MATH',\n",
       " 'coursenum': '223A',\n",
       " 'name': 'Lie Algebras: Representation Theory',\n",
       " 'independent_study': False,\n",
       " 'term': '1203',\n",
       " 'description': \"Theorems of Engel and Lie. Semisimple Lie algebras, Cartan's criterion. Universal enveloping algebras, PBW theorem, Serre's construction. Representation theory. Other topics as time permits. Usually offered every second year.\\nAn Huang\"}"
      ]
     },
<<<<<<< HEAD
     "execution_count": 5,
=======
     "execution_count": 4,
>>>>>>> 6c4588fa2464a6bc0140baba7fd0de7482655719
     "metadata": {},
     "output_type": "execute_result"
    }
   ],
   "source": [
    "print('notice that the instructor and code are tuples now')\n",
    "courses[1246]"
   ]
  },
  {
   "cell_type": "markdown",
   "metadata": {},
   "source": [
    "# Exploring the data set\n",
    "Now we will show how to use straight python to explore the data set and answer some interesting questions. Next week we will start learning Pandas/Numpy which are packages that make it easier to explore large dataset efficiently.\n",
    "\n",
    "Here are some questions we can try to asnwer:\n",
    "* what are all of the subjects of courses (e.g. COSI, MATH, JAPN, PHIL, ...)\n",
    "* which terms are represented?\n",
    "* how many instructors taught at Brandeis last year?\n",
    "* what were the five largest course sections?\n",
    "* what were the five largest courses (where we combine sections)?\n",
    "* which are the five largest subjects measured by number of courses offered?\n",
    "* which are the five largest courses measured by number of students taught?\n",
    "* which course had the most sections taught in 20-21?\n",
    "* who are the top five faculty in terms of number of students taught?\n",
    "* etc."
   ]
  },
  {
   "cell_type": "markdown",
   "metadata": {},
   "source": [
    "##### a. how many faculty taught COSI courses last year?"
   ]
  },
  {
   "cell_type": "code",
   "execution_count": 6,
   "metadata": {},
   "outputs": [
    {
     "name": "stdout",
     "output_type": "stream",
     "text": [
      "# of faculty taught COSI courses last year:\n",
      "27\n"
     ]
    }
   ],
   "source": [
    "#author: Yiwen Li\n",
    "\n",
    "len({c['instructor'] for c in courses if c['subject'] == 'COSI'})\n",
    "\n",
    "print(\"# of faculty taught COSI courses last year:\"\"\")\n",
    "print(len({c['instructor'] for c in courses if c['subject'] == 'COSI'}))"
   ]
  },
  {
   "cell_type": "markdown",
   "metadata": {},
   "source": [
    "##### b. what is the total number of students taking COSI courses last year?"
   ]
  },
  {
   "cell_type": "code",
<<<<<<< HEAD
   "execution_count": 7,
=======
   "execution_count": 8,
>>>>>>> 6c4588fa2464a6bc0140baba7fd0de7482655719
   "metadata": {},
   "outputs": [
    {
     "name": "stdout",
     "output_type": "stream",
     "text": [
      "# the total number of students taking COSI courses last year:\n",
      "2223\n"
     ]
    }
   ],
   "source": [
    "#author: Qing Liu\n",
    "\n",
    "print(\"# the total number of students taking COSI courses last year:\"\"\")\n",
    "print(sum([c['enrolled'] for c in [c for c in courses if c['subject'] == 'COSI']]))"
   ]
  },
  {
   "cell_type": "markdown",
   "metadata": {},
   "source": [
    "##### c. what was the median size of a COSI course last year (counting only those courses with at least 10 students)\n"
   ]
  },
  {
   "cell_type": "code",
   "execution_count": 8,
   "metadata": {},
   "outputs": [
    {
     "name": "stdout",
     "output_type": "stream",
     "text": [
      "median size of a COSI course last year: \n",
      "37\n"
     ]
    }
   ],
   "source": [
    "#author: Jiefang Li\n",
    "import statistics\n",
    "    \n",
    "course_list = [c['enrolled'] for c in courses if c['subject']=='COSI' and c['enrolled']>=10]  \n",
    "course_list.sort()\n",
    "\n",
    "print (\"median size of a COSI course last year: \")\n",
    "print(statistics.median(course_list))\n",
    "\n",
    "# size = len(course_list)\n",
    "\n",
    "# res = course_list[size//2] if size%2==1 else (course_list[size//2]+course_list[size//2-1])/2\n",
    "\n",
    "# print (\"median size of a COSI course last year: \")\n",
    "# print (res)\n",
    "\n",
    "        "
   ]
  },
  {
   "cell_type": "markdown",
   "metadata": {},
   "source": [
    "##### d. create a list of tuples (E,S) where S is a subject and E is the number of students enrolled in courses in that subject, sort it and print the top 10. This shows the top 10 subjects in terms of number of students taught."
   ]
  },
  {
   "cell_type": "code",
<<<<<<< HEAD
   "execution_count": 9,
=======
   "execution_count": null,
>>>>>>> 6c4588fa2464a6bc0140baba7fd0de7482655719
   "metadata": {},
   "outputs": [],
   "source": [
    "# author: Huijie Liu\n",
    "\n",
    "key = 'subject'\n",
    "subj_num = {}\n",
    "res = []\n",
    "\n",
    "for i in {c['subject'] for c in courses}:\n",
    "    res.append(tuple([sum(map(lambda c: c['enrolled'], [c for c in courses if c['subject'] == i])), i]))\n",
    "    \n",
    "res.sort(reverse=True)\n",
    "print(\"the top 10 subjects in terms of number of students taught:\")\n",
    "print(res[:10])\n",
    "\n",
    "# {for course in courses}\n",
    "# for course in courses:\n",
    "#     subj_num[course[key]] = subj_num.get(course[key], 0) + course['enrolled']\n",
    "# tuple_list = [(subj, num) for subj, num in subj_num.items()]\n",
    "# tuple_list.sort(key = lambda x: x[1], reverse = True)\n",
    "# print(tuple_list[:10])"
   ]
  },
  {
   "cell_type": "markdown",
   "metadata": {},
   "source": [
    "##### e. do the same as in (d) but print the top 10 subjects in terms of number of courses offered"
   ]
  },
  {
   "cell_type": "code",
   "execution_count": 10,
   "metadata": {},
   "outputs": [
    {
     "name": "stdout",
     "output_type": "stream",
     "text": [
      "top 10 number of course offered\n",
      "[(188, 'HS'), (72, 'MUS'), (72, 'BIOL'), (71, 'ENG'), (68, 'ANTH'), (65, 'BUS'), (64, 'NEJS'), (57, 'PSYC'), (55, 'MATH'), (53, 'ECON')]\n"
     ]
    }
   ],
   "source": [
    "# author: Yiwen Luo\n",
    "res = []\n",
    "for i in {c['subject'] for c in courses}:\n",
    "#     print(i)\n",
    "#     print(len({c['code'] for c in courses if c['subject'] == i}))\n",
    "    res.append(tuple([len({c['code'] for c in courses if c['subject'] == i}), i]))\n",
    "    res.sort(reverse = True)\n",
    "    \n",
    "\n",
    "print(\"top 10 number of course offered\")\n",
    "print(res[0:10])"
   ]
  },
  {
   "cell_type": "markdown",
   "metadata": {},
   "source": [
    "##### f. do the same as (d) but print the top 10 subjects in terms of number of faculty teaching courses in that subject"
   ]
  },
  {
   "cell_type": "code",
   "execution_count": 11,
   "metadata": {},
   "outputs": [
    {
     "name": "stdout",
     "output_type": "stream",
     "text": [
      "['HS', 'BIOL', 'ECON', 'BCHM', 'BUS', 'HIST', 'BCBP', 'HWL', 'MATH', 'NEJS']\n"
     ]
    }
   ],
   "source": [
    "#author: Jiefang Li\n",
    "\n",
    "from collections import Counter, defaultdict\n",
    "\n",
    "subj_teachers = defaultdict(set)\n",
    "\n",
    "for i in {c['subject'] for c in courses}:\n",
    "    res.append(tuple([sum(map(lambda c: c['enrolled'], [c for c in courses if c['subject'] == i])), i]))\n",
    "\n",
    " \n",
    "for c in courses:\n",
    "    subj_teachers[c['subject']].add(c['instructor'])\n",
    "\n",
    "res = [(sub, len(subj_teachers[sub])) for sub in subj_teachers]\n",
    "res.sort(reverse=True, key=lambda x:x[1])\n",
    "print([sub[0] for sub in res[:10]])\n"
   ]
  },
  {
   "cell_type": "code",
   "execution_count": 12,
   "metadata": {},
   "outputs": [
    {
     "name": "stdout",
     "output_type": "stream",
     "text": [
      "[(87, 'HS'), (67, 'BIOL'), (52, 'ECON'), (49, 'BCHM'), (47, 'HIST'), (47, 'BUS'), (46, 'BCBP'), (42, 'HWL'), (37, 'NEJS'), (37, 'MATH')]\n"
     ]
    }
   ],
   "source": [
    "res = []\n",
    "for i in {c['subject'] for c in courses}:\n",
    "    res.append(tuple([len({c['instructor'] for c in courses if c['subject'] == i}), i]))\n",
    "    res.sort(reverse = True)\n",
    "\n",
    "print(res[0:10])\n"
   ]
  },
  {
   "cell_type": "markdown",
   "metadata": {},
   "source": [
    "##### g. list the top 20 faculty in terms of number of students they taught"
   ]
  },
  {
   "cell_type": "code",
<<<<<<< HEAD
   "execution_count": 13,
=======
   "execution_count": 7,
>>>>>>> 6c4588fa2464a6bc0140baba7fd0de7482655719
   "metadata": {},
   "outputs": [
    {
     "name": "stdout",
     "output_type": "stream",
     "text": [
      "the top 20 faculty in terms of number of students they taught:\n",
      "[('Leah', 'Berkenwald', 'leahb@brandeis.edu'), ('Kene Nathan', 'Piasta', 'kpiasta@brandeis.edu'), ('Stephanie', 'Murray', 'murray@brandeis.edu'), ('Milos', 'Dolnik', 'dolnik@brandeis.edu'), ('Maria', 'de Boef Miara', 'mmiara@brandeis.edu'), ('Bryan', 'Ingoglia', 'ingoglia@brandeis.edu'), ('Rachel V.E.', 'Woodruff', 'woodruff@brandeis.edu'), ('Timothy J', 'Hickey', 'tjhickey@brandeis.edu'), ('Daniel', 'Breen', 'dbreen91@brandeis.edu'), ('Melissa', 'Kosinski-Collins', 'kosinski@brandeis.edu'), ('Claudia', 'Novack', 'novack@brandeis.edu'), ('Antonella', 'DiLillo', 'dilant@brandeis.edu'), ('Jon', 'Chilingerian', 'chilinge@brandeis.edu'), ('Ahmad', 'Namini', 'anamini@brandeis.edu'), ('Iraklis', 'Tsekourakis', 'tsekourakis@brandeis.edu'), ('Geoffrey', 'Clarke', 'geoffclarke@brandeis.edu'), ('Peter', 'Mistark', 'pmistark@brandeis.edu'), ('Brenda', 'Anderson', 'banders@brandeis.edu'), ('Colleen', 'Hitchcock', 'hitchcock@brandeis.edu'), ('Scott A.', 'Redenius', 'redenius@brandeis.edu')]\n"
     ]
    }
   ],
   "source": [
    "#author: Qing Liu\n",
    "from collections import defaultdict\n",
    "dict1 = defaultdict(int)\n",
    "\n",
    "res=[]\n",
    "\n",
    "for i in {c['instructor'] for c in courses}:\n",
    "    res.append(tuple([sum(map(lambda c: c['enrolled'], [c for c in courses if c['instructor'] == i])), i]))\n",
    "\n",
    "res.sort(reverse=True)\n",
    "print(\"the top 20 faculty in terms of number of students they taught:\")\n",
    "print([sub[1] for sub in res[:20]])"
   ]
  },
  {
   "cell_type": "markdown",
   "metadata": {},
   "source": [
    "#### h. list the top 20 courses in terms of number of students taking that course (where you combine different sections and semesters, i.e. just use the subject and course number)"
   ]
  },
  {
   "cell_type": "code",
<<<<<<< HEAD
   "execution_count": 14,
=======
   "execution_count": null,
>>>>>>> 6c4588fa2464a6bc0140baba7fd0de7482655719
   "metadata": {},
   "outputs": [],
   "source": [
    "# author: Huijie Liu\n",
    "\n",
    "res = []\n",
    "for i in {(c['subject'], c['coursenum']) for c in courses}:\n",
    "    res.append(tuple([sum(map(lambda c: c['enrolled'], [c for c in courses if c['subject'] == i[0] and c['coursenum'] == i[1]])), i]))\n",
    "    \n",
    "res.sort(reverse=True)\n",
    "print(res[:20])\n"
   ]
  },
  {
   "cell_type": "markdown",
   "metadata": {},
   "source": [
    "##### i. Create your own interesting question (each team member creates their own) and use Python to answer that question."
   ]
  },
  {
   "cell_type": "code",
   "execution_count": 15,
   "metadata": {},
   "outputs": [
    {
     "name": "stdout",
     "output_type": "stream",
     "text": [
      "[(27, 'Biostatistics'), (26, 'Introduction to Cognitive Neuroscience'), (23, 'Yoga'), (23, 'Money Management for Beginners'), (21, 'Introduction to Probability and Statistics'), (21, 'Biostatistics'), (20, 'Human Anatomy'), (18, 'Human Anatomy'), (18, 'Biomedical Ethics'), (16, 'Human Anatomy')]\n"
     ]
    }
   ],
   "source": [
    "#author: Jiefang Li\n",
    "#return the top 10 courses which have the most people in the waiting list and the number of student in the waiting list\n",
    "\n",
    "course_list = [(c['waiting'],c['name']) for c in courses]  \n",
    "\n",
    "course_list.sort(reverse = True)\n",
    "\n",
    "print(course_list[:10])\n",
    "\n"
   ]
  },
  {
   "cell_type": "code",
   "execution_count": 16,
   "metadata": {},
   "outputs": [
    {
     "name": "stdout",
     "output_type": "stream",
     "text": [
      "# of independent study courses in each department\n",
      "[(30, 'PSYC'), (29, 'HRNS'), (27, 'NEJS'), (21, 'ANTH'), (17, 'BIOL'), (16, 'COSI'), (15, 'NEUR'), (15, 'HS'), (13, 'SOC'), (13, 'PHYS'), (12, 'HIST'), (12, 'ENG'), (11, 'POL'), (11, 'MUS'), (9, 'WGS'), (9, 'MATH'), (9, 'ED'), (9, 'ECON'), (9, 'CHEM'), (8, 'THA'), (8, 'FA'), (8, 'BUS'), (7, 'PHIL'), (7, 'CLAS'), (6, 'IGS'), (6, 'ENVS'), (6, 'BCHM'), (6, 'AMST'), (5, 'RUS'), (5, 'LAT'), (5, 'ITAL'), (5, 'GRK'), (4, 'REL'), (4, 'LALS'), (4, 'IMES'), (4, 'IIM'), (4, 'HSSP'), (4, 'HISP'), (4, 'HBRW'), (4, 'GER'), (4, 'FREN'), (4, 'FILM'), (4, 'COML'), (4, 'BIOT'), (4, 'BCBP'), (3, 'PAX'), (3, 'LING'), (3, 'JOUR'), (3, 'FIN'), (3, 'ECS'), (3, 'EAS'), (3, 'BIPH'), (3, 'AAAS'), (2, 'MERS'), (2, 'LGLS'), (2, 'KOR'), (2, 'JAPN'), (2, 'HOID'), (2, 'GS'), (2, 'COMH'), (2, 'CHIN'), (1, 'YDSH'), (1, 'SJSP'), (1, 'SAS'), (1, 'EL'), (1, 'EBIO'), (1, 'CAST'), (1, 'ARBC'), (1, 'AAPI'), (0, 'UWS'), (0, 'RUCD'), (0, 'RSEG'), (0, 'RSAN'), (0, 'RPJM'), (0, 'RMGT'), (0, 'RIDT'), (0, 'RIAS'), (0, 'RHIN'), (0, 'RECS/THA'), (0, 'RECS'), (0, 'RDMD'), (0, 'RDFT'), (0, 'RCOM'), (0, 'RBOT'), (0, 'RBIF'), (0, 'QR'), (0, 'QBIO'), (0, 'POL/WGS'), (0, 'PMED'), (0, 'NPSY'), (0, 'NBIO'), (0, 'INT'), (0, 'HWL'), (0, 'HUM/UWS'), (0, 'HUM'), (0, 'HS/POL'), (0, 'HIST/WGS'), (0, 'HIST/SOC'), (0, 'GECS'), (0, 'ESL'), (0, 'ECS/ENG'), (0, 'ECON/FIN'), (0, 'COMP'), (0, 'CLAS/NEJ'), (0, 'CLAS/ENG'), (0, 'CHSC'), (0, 'CBIO'), (0, 'CA'), (0, 'BUS/FIN'), (0, 'BUS/ECON'), (0, 'BISC'), (0, 'BIBC'), (0, 'ANTH/WGS'), (0, 'AMST/MUS'), (0, 'AMST/ENG'), (0, 'AAS/AAPI'), (0, 'AAPI/WGS'), (0, 'AAPI/HIS'), (0, 'AAAS/WGS'), (0, 'AAAS/HIS')]\n"
     ]
    }
   ],
   "source": [
    "#### This is my first comment"
   ]
  },
  {
   "cell_type": "code",
   "execution_count": null,
   "metadata": {},
   "outputs": [],
   "source": [
    "# author: Yiwen Luo\n",
    "# Return the number of independent study course in each subject in descending order\n",
    "\n",
    "res = []\n",
    "for i in {c['subject'] for c in courses}:\n",
    "    res.append(tuple([len({c['code'] for c in courses if c['subject'] == i and c['independent_study'] == True}), i]))\n",
    "    res.sort(reverse = True)\n",
    "    \n",
    "\n",
    "print(\"# of independent study courses in each department\")\n",
    "print(res)"
   ]
  },
  {
   "cell_type": "code",
<<<<<<< HEAD
   "execution_count": 17,
=======
   "execution_count": 9,
>>>>>>> 6c4588fa2464a6bc0140baba7fd0de7482655719
   "metadata": {},
   "outputs": [
    {
     "name": "stdout",
     "output_type": "stream",
     "text": [
      "# of courses with at least 1 coinstructor\n",
<<<<<<< HEAD
      "[('SOC', 2), ('MUS', 3), ('PAX', 1), ('PSYC', 1), ('NBIO', 4), ('BIOL', 1), ('CHEM', 3), ('UWS', 2), ('CLAS', 3), ('ANTH/WGS', 1), ('RBIF', 2), ('CA', 2), ('THA', 3), ('ED', 5), ('FA', 1), ('BUS', 1), ('CHIN', 2), ('COSI', 1), ('HS/POL', 1), ('EL', 2), ('RIDT', 1), ('CLAS/ENG', 1), ('ESL', 8), ('HWL', 8), ('AAAS', 1), ('SJSP', 1), ('HRNS', 2), ('HUM/UWS', 1), ('BISC', 2), ('HIST/SOC', 1), ('RUS', 3), ('HS', 20)]\n"
=======
      "[('HIST/SOC', 1), ('HRNS', 2), ('CHIN', 2), ('THA', 3), ('HS', 20), ('CLAS', 3), ('HS/POL', 1), ('ANTH/WGS', 1), ('RBIF', 2), ('BUS', 1), ('MUS', 3), ('BISC', 2), ('BIOL', 1), ('COSI', 1), ('SJSP', 1), ('RIDT', 1), ('HUM/UWS', 1), ('ED', 5), ('PAX', 1), ('HWL', 8), ('EL', 2), ('CA', 2), ('SOC', 2), ('AAAS', 1), ('UWS', 2), ('NBIO', 4), ('PSYC', 1), ('CLAS/ENG', 1), ('RUS', 3), ('CHEM', 3), ('ESL', 8), ('FA', 1)]\n"
>>>>>>> 6c4588fa2464a6bc0140baba7fd0de7482655719
     ]
    }
   ],
   "source": [
    "# author: Qing Liu\n",
    "# Return the number of courses with at least one coinstructor by subject\n",
    "\n",
    "res = list()\n",
    "for i in {c['subject'] for c in courses}:\n",
    "    numCoinstructors = sum([1 for c in courses if len(c['coinstructors']) >= 1 and c['subject'] == i])\n",
    "    if numCoinstructors > 0:\n",
    "        res.append((i, numCoinstructors))    \n",
    "print(\"# of courses with at least 1 coinstructor\")\n",
    "print(res)"
   ]
  },
  {
   "cell_type": "code",
<<<<<<< HEAD
   "execution_count": 18,
=======
   "execution_count": null,
>>>>>>> 6c4588fa2464a6bc0140baba7fd0de7482655719
   "metadata": {},
   "outputs": [],
   "source": [
    "# author: Huijie Liu\n",
    "# list the course which has the longest course names\n",
    "\n",
    "course_list = [c['name'] for c in courses]  \n",
    "course_list.sort(key = len, reverse = True)\n",
    "\n",
    "print(course_list[0])"
   ]
  },
  {
   "cell_type": "code",
   "execution_count": null,
   "metadata": {},
   "outputs": [],
   "source": []
  },
  {
   "cell_type": "code",
   "execution_count": null,
   "metadata": {},
   "outputs": [],
   "source": []
  }
 ],
 "metadata": {
  "kernelspec": {
   "display_name": "Python 3",
   "language": "python",
   "name": "python3"
  },
  "language_info": {
   "codemirror_mode": {
    "name": "ipython",
    "version": 3
   },
   "file_extension": ".py",
   "mimetype": "text/x-python",
   "name": "python",
   "nbconvert_exporter": "python",
   "pygments_lexer": "ipython3",
   "version": "3.8.5"
  }
 },
 "nbformat": 4,
 "nbformat_minor": 4
}
