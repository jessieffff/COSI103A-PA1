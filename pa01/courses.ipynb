{
 "cells": [
  {
   "cell_type": "markdown",
   "metadata": {},
   "source": [
    "# Courses Demo\n",
    "This Jupyter notebook is for exploring the data set courses20-21.json\n",
    "which consists of all Brandeis courses in the 20-21 academic year (Fall20, Spr21, Sum21) \n",
    "which had at least 1 student enrolled.\n",
    "\n",
    "First we need to read the json file into a list of Python dictionaries"
   ]
  },
  {
   "cell_type": "code",
   "execution_count": 1,
   "metadata": {},
   "outputs": [],
   "source": [
    "import json"
   ]
  },
  {
   "cell_type": "code",
   "execution_count": 2,
   "metadata": {},
   "outputs": [],
   "source": [
    "with open(\"courses20-21.json\",\"r\",encoding='utf-8') as jsonfile:\n",
    "    courses = json.load(jsonfile)"
   ]
  },
  {
   "cell_type": "markdown",
   "metadata": {},
   "source": [
    "## Structure of a course\n",
    "Next we look at the fields of each course dictionary and their values"
   ]
  },
  {
   "cell_type": "code",
   "execution_count": null,
   "metadata": {},
   "outputs": [],
   "source": [
    "print('there are',len(courses),'courses in the dataset')\n",
    "print('here is the data for course 1246')\n",
    "courses[1276]"
   ]
  },
  {
   "cell_type": "markdown",
   "metadata": {},
   "source": [
    "## Cleaning the data\n",
    "If we want to sort courses by instructor or by code, we need to replace the lists with tuples (which are immutable lists)"
   ]
  },
  {
   "cell_type": "code",
   "execution_count": null,
   "metadata": {},
   "outputs": [],
   "source": [
    "for course in courses:\n",
    "        course['instructor'] = tuple(course['instructor'])\n",
    "        course['coinstructors'] = tuple([tuple(f) for f in course['coinstructors']])\n",
    "        course['code']= tuple(course['code'])"
   ]
  },
  {
   "cell_type": "code",
   "execution_count": null,
   "metadata": {},
   "outputs": [],
   "source": [
    "print('notice that the instructor and code are tuples now')\n",
    "courses[1246]"
   ]
  },
  {
   "cell_type": "markdown",
   "metadata": {},
   "source": [
    "# Exploring the data set\n",
    "Now we will show how to use straight python to explore the data set and answer some interesting questions. Next week we will start learning Pandas/Numpy which are packages that make it easier to explore large dataset efficiently.\n",
    "\n",
    "Here are some questions we can try to asnwer:\n",
    "* what are all of the subjects of courses (e.g. COSI, MATH, JAPN, PHIL, ...)\n",
    "* which terms are represented?\n",
    "* how many instructors taught at Brandeis last year?\n",
    "* what were the five largest course sections?\n",
    "* what were the five largest courses (where we combine sections)?\n",
    "* which are the five largest subjects measured by number of courses offered?\n",
    "* which are the five largest courses measured by number of students taught?\n",
    "* which course had the most sections taught in 20-21?\n",
    "* who are the top five faculty in terms of number of students taught?\n",
    "* etc."
   ]
  },
  {
   "cell_type": "markdown",
   "metadata": {},
   "source": [
    "##### a. how many faculty taught COSI courses last year?"
   ]
  },
  {
   "cell_type": "code",
   "execution_count": null,
   "metadata": {},
   "outputs": [],
   "source": [
    "#author: Yiwen Li\n",
    "\n",
    "len({c['instructor'] for c in courses if c['subject'] == 'COSI'})\n",
    "\n",
    "print(\"# of faculty taught COSI courses last year:\"\"\")\n",
    "print(len({c['instructor'] for c in courses if c['subject'] == 'COSI'}))"
   ]
  },
  {
   "cell_type": "markdown",
   "metadata": {},
   "source": [
    "##### b. what is the total number of students taking COSI courses last year?"
   ]
  },
  {
   "cell_type": "code",
   "execution_count": null,
   "metadata": {},
   "outputs": [],
   "source": [
    "#author: Qing Liu\n",
    "\n",
    "print(\"# the total number of students taking COSI courses last year:\"\"\")\n",
    "print(sum([c['enrolled'] for c in [c for c in courses if c['subject'] == 'COSI']]))"
   ]
  },
  {
   "cell_type": "markdown",
   "metadata": {},
   "source": [
    "##### c. what was the median size of a COSI course last year (counting only those courses with at least 10 students)\n"
   ]
  },
  {
   "cell_type": "code",
   "execution_count": null,
   "metadata": {},
   "outputs": [],
   "source": [
    "#author: Jiefang Li\n",
    "import statistics\n",
    "    \n",
    "course_list = [c['enrolled'] for c in courses if c['subject']=='COSI' and c['enrolled']>=10]  \n",
    "course_list.sort()\n",
    "\n",
    "print (\"median size of a COSI course last year: \")\n",
    "print(statistics.median(course_list))\n",
    "\n",
    "# size = len(course_list)\n",
    "\n",
    "# res = course_list[size//2] if size%2==1 else (course_list[size//2]+course_list[size//2-1])/2\n",
    "\n",
    "# print (\"median size of a COSI course last year: \")\n",
    "# print (res)\n",
    "\n",
    "        "
   ]
  },
  {
   "cell_type": "markdown",
   "metadata": {},
   "source": [
    "##### d. create a list of tuples (E,S) where S is a subject and E is the number of students enrolled in courses in that subject, sort it and print the top 10. This shows the top 10 subjects in terms of number of students taught."
   ]
  },
  {
   "cell_type": "code",
   "execution_count": 3,
   "metadata": {},
   "outputs": [
    {
     "name": "stdout",
     "output_type": "stream",
     "text": [
      "the top 10 subjects in terms of number of students taught:\n",
      "[(5318, 'HS'), (3085, 'BIOL'), (2766, 'BUS'), (2734, 'HWL'), (2322, 'CHEM'), (2315, 'ECON'), (2223, 'COSI'), (1785, 'MATH'), (1704, 'PSYC'), (1144, 'ANTH')]\n"
     ]
    }
   ],
   "source": [
    "# author: Huijie Liu\n",
    "\n",
    "key = 'subject'\n",
    "subj_num = {}\n",
    "res = []\n",
    "\n",
    "for i in {c['subject'] for c in courses}:\n",
    "    res.append(tuple([sum(map(lambda c: c['enrolled'], [c for c in courses if c['subject'] == i])), i]))\n",
    "    \n",
    "res.sort(reverse=True)\n",
    "print(\"the top 10 subjects in terms of number of students taught:\")\n",
    "print(res[:10])\n",
    "\n",
    "# {for course in courses}\n",
    "# for course in courses:\n",
    "#     subj_num[course[key]] = subj_num.get(course[key], 0) + course['enrolled']\n",
    "# tuple_list = [(subj, num) for subj, num in subj_num.items()]\n",
    "# tuple_list.sort(key = lambda x: x[1], reverse = True)\n",
    "# print(tuple_list[:10])"
   ]
  },
  {
   "cell_type": "markdown",
   "metadata": {},
   "source": [
    "##### e. do the same as in (d) but print the top 10 subjects in terms of number of courses offered"
   ]
  },
  {
   "cell_type": "code",
   "execution_count": null,
   "metadata": {},
   "outputs": [],
   "source": [
    "# author: Yiwen Luo\n",
    "res = []\n",
    "for i in {c['subject'] for c in courses}:\n",
    "#     print(i)\n",
    "#     print(len({c['code'] for c in courses if c['subject'] == i}))\n",
    "    res.append(tuple([len({c['code'] for c in courses if c['subject'] == i}), i]))\n",
    "    res.sort(reverse = True)\n",
    "    \n",
    "\n",
    "print(\"top 10 number of course offered\")\n",
    "print(res[0:10])"
   ]
  },
  {
   "cell_type": "markdown",
   "metadata": {},
   "source": [
    "##### f. do the same as (d) but print the top 10 subjects in terms of number of faculty teaching courses in that subject"
   ]
  },
  {
   "cell_type": "code",
   "execution_count": null,
   "metadata": {},
   "outputs": [],
   "source": [
    "#author: Jiefang Li\n",
    "\n",
    "from collections import Counter, defaultdict\n",
    "\n",
    "subj_teachers = defaultdict(set)\n",
    "\n",
    "for i in {c['subject'] for c in courses}:\n",
    "    res.append(tuple([sum(map(lambda c: c['enrolled'], [c for c in courses if c['subject'] == i])), i]))\n",
    "\n",
    " \n",
    "for c in courses:\n",
    "    subj_teachers[c['subject']].add(c['instructor'])\n",
    "\n",
    "res = [(sub, len(subj_teachers[sub])) for sub in subj_teachers]\n",
    "res.sort(reverse=True, key=lambda x:x[1])\n",
    "print([sub[0] for sub in res[:10]])\n"
   ]
  },
  {
   "cell_type": "code",
   "execution_count": null,
   "metadata": {},
   "outputs": [],
   "source": [
    "res = []\n",
    "for i in {c['subject'] for c in courses}:\n",
    "    res.append(tuple([len({c['instructor'] for c in courses if c['subject'] == i}), i]))\n",
    "    res.sort(reverse = True)\n",
    "\n",
    "print(res[0:10])\n"
   ]
  },
  {
   "cell_type": "markdown",
   "metadata": {},
   "source": [
    "##### g. list the top 20 faculty in terms of number of students they taught"
   ]
  },
  {
   "cell_type": "code",
   "execution_count": null,
   "metadata": {},
   "outputs": [],
   "source": [
    "#author: Qing Liu\n",
    "from collections import defaultdict\n",
    "dict1 = defaultdict(int)\n",
    "\n",
    "res=[]\n",
    "for i in {c['instructor'] for c in courses}:\n",
    "    res.append(tuple([sum(map(lambda c: c['enrolled'], [c for c in courses if c['instructor'] == i])), i]))\n",
    "\n",
    "res.sort(reverse=True)\n",
    "print(\"the top 20 faculty in terms of number of students they taught:\")\n",
    "print([sub[1] for sub in res[:20]])"
   ]
  },
  {
   "cell_type": "markdown",
   "metadata": {},
   "source": [
    "#### h. list the top 20 courses in terms of number of students taking that course (where you combine different sections and semesters, i.e. just use the subject and course number)"
   ]
  },
  {
   "cell_type": "code",
   "execution_count": 4,
   "metadata": {},
   "outputs": [
    {
     "name": "stdout",
     "output_type": "stream",
     "text": [
      "[(940, ('HWL', '1')), (879, ('HWL', '1-PRE')), (358, ('BIOL', '14A')), (343, ('COSI', '10A')), (336, ('PSYC', '10A')), (287, ('BIOL', '15B')), (280, ('MATH', '10A')), (274, ('BIOL', '18B')), (262, ('BIOL', '18A')), (245, ('CHEM', '29A')), (239, ('CHEM', '29B')), (236, ('CHEM', '25A')), (231, ('PSYC', '51A')), (226, ('CHEM', '25B')), (225, ('COSI', '12B')), (215, ('BUS', '6A')), (208, ('CHEM', '18A')), (207, ('ECON', '10A')), (204, ('MATH', '15A')), (201, ('COSI', '21A'))]\n"
     ]
    }
   ],
   "source": [
    "# author: Huijie Liu\n",
    "\n",
    "# key1 = 'subject'\n",
    "# key2 = 'coursenum'\n",
    "# course_num = {}\n",
    "\n",
    "\n",
    "res = []\n",
    "for i in {(c['subject'], c['coursenum']) for c in courses}:\n",
    "    res.append(tuple([sum(map(lambda c: c['enrolled'], [c for c in courses if c['subject'] == i[0] and c['coursenum'] == i[1]])), i]))\n",
    "    \n",
    "res.sort(reverse=True)\n",
    "print(res[:20])\n",
    "\n",
    "\n",
    "# for course in courses:\n",
    "#     course_num[course[key1]+' '+course[key2]] = course_num.get(course[key1]+' '+course[key2], 0) + course['enrolled']\n",
    "# tuple_list = [(course, num) for course, num in course_num.items()]\n",
    "# tuple_list.sort(key = lambda x: x[1], reverse = True)\n",
    "# for tupleItem in tuple_list[:20]:\n",
    "#     print(tupleItem[0])"
   ]
  },
  {
   "cell_type": "markdown",
   "metadata": {},
   "source": [
    "##### i. Create your own interesting question (each team member creates their own) and use Python to answer that question."
   ]
  },
  {
   "cell_type": "code",
   "execution_count": null,
   "metadata": {},
   "outputs": [],
   "source": [
    "#author: Jiefang Li\n",
    "#return the top 10 courses which have the most people in the waiting list and the number of student in the waiting list\n",
    "\n",
    "from collections import Counter, defaultdict\n",
    "\n",
    "course_list = [(c['waiting'],c['name']) for c in courses]  \n",
    "\n",
    "course_list.sort(reverse = True)\n",
    "\n",
    "print(course_list[:10])\n",
    "\n"
   ]
  },
  {
   "cell_type": "code",
   "execution_count": null,
   "metadata": {},
   "outputs": [],
   "source": [
    "#### This is my first comment"
   ]
  },
  {
   "cell_type": "code",
   "execution_count": null,
   "metadata": {},
   "outputs": [],
   "source": [
    "# author: Yiwen Luo\n",
    "# Return the number of independent study course in each subject in descending order\n",
    "\n",
    "res = []\n",
    "for i in {c['subject'] for c in courses}:\n",
    "    res.append(tuple([len({c['code'] for c in courses if c['subject'] == i and c['independent_study'] == True}), i]))\n",
    "    res.sort(reverse = True)\n",
    "    \n",
    "\n",
    "print(\"# of independent study courses in each department\")\n",
    "print(res)"
   ]
  },
  {
   "cell_type": "code",
   "execution_count": null,
   "metadata": {},
   "outputs": [],
   "source": [
    "# author: Qing Liu\n",
    "# Return the number of courses with at least one coinstructor by subject\n",
    "\n",
    "res = list()\n",
    "for i in {c['subject'] for c in courses}:\n",
    "    numCoinstructors = sum([1 for c in courses \n",
    "                        if len(c['coinstructors']) >= 1 and c['subject'] == i])\n",
    "    if numCoinstructors > 0:\n",
    "        res.append((i, numCoinstructors))    \n",
    "\n",
    "    \n",
    "\n",
    "print(\"# of courses with at least 1 coinstructor\")\n",
    "print(res)"
   ]
  },
  {
   "cell_type": "code",
   "execution_count": 5,
   "metadata": {},
   "outputs": [
    {
     "name": "stdout",
     "output_type": "stream",
     "text": [
      "From Les Confessions to Instagram: Self-Writing in Contemporary French and Francophone Literature\n"
     ]
    }
   ],
   "source": [
    "# author: Huijie Liu\n",
    "# list the course which has the longest course names\n",
    "\n",
    "course_list = [c['name'] for c in courses]  \n",
    "course_list.sort(key = len, reverse = True)\n",
    "\n",
    "print(course_list[0])"
   ]
  },
  {
   "cell_type": "code",
   "execution_count": null,
   "metadata": {},
   "outputs": [],
   "source": []
  }
 ],
 "metadata": {
  "kernelspec": {
   "display_name": "Python 3 (ipykernel)",
   "language": "python",
   "name": "python3"
  },
  "language_info": {
   "codemirror_mode": {
    "name": "ipython",
    "version": 3
   },
   "file_extension": ".py",
   "mimetype": "text/x-python",
   "name": "python",
   "nbconvert_exporter": "python",
   "pygments_lexer": "ipython3",
   "version": "3.9.5"
  }
 },
 "nbformat": 4,
 "nbformat_minor": 4
}
